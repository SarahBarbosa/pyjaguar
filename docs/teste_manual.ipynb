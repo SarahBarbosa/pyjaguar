{
 "cells": [
  {
   "cell_type": "markdown",
   "metadata": {},
   "source": [
    "## Importação das bibliotecas"
   ]
  },
  {
   "cell_type": "code",
   "execution_count": 1,
   "metadata": {},
   "outputs": [],
   "source": [
    "import pyjaguar as pj\n",
    "import numpy as np"
   ]
  },
  {
   "cell_type": "markdown",
   "metadata": {},
   "source": [
    "## DataFrame a partir de um dicionário"
   ]
  },
  {
   "cell_type": "code",
   "execution_count": 2,
   "metadata": {},
   "outputs": [
    {
     "data": {
      "text/html": [
       "<table><thead><tr><th></th><th class='nome'>nome      </th><th class='idade'>idade     </th><th class='genero'>genero    </th><th class='altura'>altura    </th><th class='peso'>peso      </th><th class='cidade'>cidade    </th></tr></thead><tbody><tr><td><strong>0</strong></td><td class='nome'>João      </td><td class='idade'>        30</td><td class='genero'>M         </td><td class='altura'>      1.75</td><td class='peso'>      70.5</td><td class='cidade'>São Paulo </td></tr><tr><td><strong>1</strong></td><td class='nome'>Maria     </td><td class='idade'>        25</td><td class='genero'>F         </td><td class='altura'>      1.65</td><td class='peso'>      60.8</td><td class='cidade'>Rio de Janeiro</td></tr><tr><td><strong>2</strong></td><td class='nome'>Pedro     </td><td class='idade'>        35</td><td class='genero'>M         </td><td class='altura'>       1.8</td><td class='peso'>      90.3</td><td class='cidade'>Belo Horizonte</td></tr><tr><td><strong>3</strong></td><td class='nome'>Ana       </td><td class='idade'>        28</td><td class='genero'>F         </td><td class='altura'>       1.7</td><td class='peso'>      70.9</td><td class='cidade'>Brasília  </td></tr><tr><td><strong>4</strong></td><td class='nome'>José      </td><td class='idade'>        40</td><td class='genero'>M         </td><td class='altura'>      1.68</td><td class='peso'>      80.2</td><td class='cidade'>Salvador  </td></tr></tbody></table>"
      ],
      "text/plain": [
       "<pyjaguar.core.dataframe.DataFrame at 0x71305a95f940>"
      ]
     },
     "execution_count": 2,
     "metadata": {},
     "output_type": "execute_result"
    }
   ],
   "source": [
    "nome = np.array(['João', 'Maria', 'Pedro', 'Ana', 'José'])\n",
    "idade = np.array([30, 25, 35, 28, 40])\n",
    "genero = np.array(['M', 'F', 'M', 'F', 'M'])\n",
    "altura = np.array([1.75, 1.65, 1.80, 1.70, 1.68])\n",
    "peso = np.array([70.5, 60.8, 90.3, 70.9, 80.2])\n",
    "cidade = np.array(['São Paulo', 'Rio de Janeiro', 'Belo Horizonte', 'Brasília', 'Salvador'])\n",
    "\n",
    "dados = {'nome': nome, 'idade': idade, 'genero': genero, 'altura': altura, 'peso': peso, 'cidade': cidade}\n",
    "\n",
    "df = pj.DataFrame(dados)\n",
    "df"
   ]
  },
  {
   "cell_type": "markdown",
   "metadata": {},
   "source": [
    "## Acessar os nomes das colunas"
   ]
  },
  {
   "cell_type": "code",
   "execution_count": 3,
   "metadata": {},
   "outputs": [
    {
     "data": {
      "text/plain": [
       "['nome', 'idade', 'genero', 'altura', 'peso', 'cidade']"
      ]
     },
     "execution_count": 3,
     "metadata": {},
     "output_type": "execute_result"
    }
   ],
   "source": [
    "df.colunas"
   ]
  },
  {
   "cell_type": "markdown",
   "metadata": {},
   "source": [
    "## Modificando os nomes das colunas"
   ]
  },
  {
   "cell_type": "code",
   "execution_count": 5,
   "metadata": {},
   "outputs": [
    {
     "data": {
      "text/html": [
       "<table><thead><tr><th></th><th class='Nome'>Nome      </th><th class='Idade'>Idade     </th><th class='Gênero'>Gênero    </th><th class='Altura'>Altura    </th><th class='Peso'>Peso      </th><th class='Cidade Natal'>Cidade Natal</th></tr></thead><tbody><tr><td><strong>0</strong></td><td class='Nome'>João      </td><td class='Idade'>        30</td><td class='Gênero'>M         </td><td class='Altura'>      1.75</td><td class='Peso'>      70.5</td><td class='Cidade Natal'>São Paulo </td></tr><tr><td><strong>1</strong></td><td class='Nome'>Maria     </td><td class='Idade'>        25</td><td class='Gênero'>F         </td><td class='Altura'>      1.65</td><td class='Peso'>      60.8</td><td class='Cidade Natal'>Rio de Janeiro</td></tr><tr><td><strong>2</strong></td><td class='Nome'>Pedro     </td><td class='Idade'>        35</td><td class='Gênero'>M         </td><td class='Altura'>       1.8</td><td class='Peso'>      90.3</td><td class='Cidade Natal'>Belo Horizonte</td></tr><tr><td><strong>3</strong></td><td class='Nome'>Ana       </td><td class='Idade'>        28</td><td class='Gênero'>F         </td><td class='Altura'>       1.7</td><td class='Peso'>      70.9</td><td class='Cidade Natal'>Brasília  </td></tr><tr><td><strong>4</strong></td><td class='Nome'>José      </td><td class='Idade'>        40</td><td class='Gênero'>M         </td><td class='Altura'>      1.68</td><td class='Peso'>      80.2</td><td class='Cidade Natal'>Salvador  </td></tr></tbody></table>"
      ],
      "text/plain": [
       "<pyjaguar.core.dataframe.DataFrame at 0x71305a95f940>"
      ]
     },
     "execution_count": 5,
     "metadata": {},
     "output_type": "execute_result"
    }
   ],
   "source": [
    "df.colunas = [\"Nome\", \"Idade\", \"Gênero\", \"Altura\", \"Peso\", \"Cidade Natal\"]\n",
    "df"
   ]
  }
 ],
 "metadata": {
  "kernelspec": {
   "display_name": "pyjaguar",
   "language": "python",
   "name": "python3"
  },
  "language_info": {
   "codemirror_mode": {
    "name": "ipython",
    "version": 3
   },
   "file_extension": ".py",
   "mimetype": "text/x-python",
   "name": "python",
   "nbconvert_exporter": "python",
   "pygments_lexer": "ipython3",
   "version": "3.10.14"
  }
 },
 "nbformat": 4,
 "nbformat_minor": 2
}
