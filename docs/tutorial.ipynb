{
 "cells": [
  {
   "cell_type": "markdown",
   "metadata": {},
   "source": [
    "## Importação das bibliotecas"
   ]
  },
  {
   "cell_type": "code",
   "execution_count": 17,
   "metadata": {},
   "outputs": [],
   "source": [
    "import pyjaguar as pj\n",
    "import numpy as np"
   ]
  },
  {
   "cell_type": "markdown",
   "metadata": {},
   "source": [
    "## DataFrame a partir de um dicionário"
   ]
  },
  {
   "cell_type": "code",
   "execution_count": 18,
   "metadata": {},
   "outputs": [
    {
     "data": {
      "text/html": [
       "<table><thead><tr><th></th><th>nome      </th><th>idade     </th><th>genero    </th><th>estuda    </th><th>altura    </th><th>peso      </th></tr></thead><tbody><tr><td><strong>0</strong></td><td>João</td><td>30</td><td>M</td><td>True</td><td>1.75</td><td>70.67</td></tr><tr><td><strong>1</strong></td><td>Maria</td><td>25</td><td>F</td><td>False</td><td>1.65</td><td>None</td></tr><tr><td><strong>2</strong></td><td>Pedro</td><td>35</td><td>M</td><td>False</td><td>1.80</td><td>90.77</td></tr><tr><td><strong>3</strong></td><td>Ana</td><td>28</td><td>F</td><td>True</td><td>1.70</td><td>70.12</td></tr><tr><td><strong>4</strong></td><td>José</td><td>40</td><td>M</td><td>True</td><td>1.68</td><td>None</td></tr></tbody></table>"
      ],
      "text/plain": [
       "<pyjaguar.core.dataframe.DataFrame at 0x7e611bf91ae0>"
      ]
     },
     "execution_count": 18,
     "metadata": {},
     "output_type": "execute_result"
    }
   ],
   "source": [
    "nome = np.array(['João', 'Maria', 'Pedro', 'Ana', 'José'])\n",
    "idade = np.array([30, 25, 35, 28, 40])\n",
    "genero = np.array(['M', 'F', 'M', 'F', 'M'])\n",
    "estuda = np.array([True, False, False, True, True])\n",
    "altura = np.array([1.75, 1.65, 1.80, 1.70, 1.68])\n",
    "peso = np.array([70.67, None, 90.77, 70.12, None])\n",
    "\n",
    "dados = {'nome': nome, 'idade': idade, 'genero': genero, \n",
    "         'estuda': estuda, 'altura': altura, 'peso': peso}\n",
    "\n",
    "df = pj.DataFrame(dados)\n",
    "df"
   ]
  },
  {
   "cell_type": "markdown",
   "metadata": {},
   "source": [
    "## Acessar os nomes das colunas"
   ]
  },
  {
   "cell_type": "code",
   "execution_count": 19,
   "metadata": {},
   "outputs": [
    {
     "data": {
      "text/plain": [
       "['nome', 'idade', 'genero', 'estuda', 'altura', 'peso']"
      ]
     },
     "execution_count": 19,
     "metadata": {},
     "output_type": "execute_result"
    }
   ],
   "source": [
    "df.colunas"
   ]
  },
  {
   "cell_type": "markdown",
   "metadata": {},
   "source": [
    "## Modificando os nomes das colunas"
   ]
  },
  {
   "cell_type": "code",
   "execution_count": 20,
   "metadata": {},
   "outputs": [
    {
     "data": {
      "text/html": [
       "<table><thead><tr><th></th><th>Nome      </th><th>Idade     </th><th>Sexo      </th><th>Estuda    </th><th>Altura    </th><th>Peso      </th></tr></thead><tbody><tr><td><strong>0</strong></td><td>João</td><td>30</td><td>M</td><td>True</td><td>1.75</td><td>70.67</td></tr><tr><td><strong>1</strong></td><td>Maria</td><td>25</td><td>F</td><td>False</td><td>1.65</td><td>None</td></tr><tr><td><strong>2</strong></td><td>Pedro</td><td>35</td><td>M</td><td>False</td><td>1.80</td><td>90.77</td></tr><tr><td><strong>3</strong></td><td>Ana</td><td>28</td><td>F</td><td>True</td><td>1.70</td><td>70.12</td></tr><tr><td><strong>4</strong></td><td>José</td><td>40</td><td>M</td><td>True</td><td>1.68</td><td>None</td></tr></tbody></table>"
      ],
      "text/plain": [
       "<pyjaguar.core.dataframe.DataFrame at 0x7e611bf91ae0>"
      ]
     },
     "execution_count": 20,
     "metadata": {},
     "output_type": "execute_result"
    }
   ],
   "source": [
    "df.colunas = [\"Nome\", \"Idade\", \"Sexo\", \"Estuda\", \"Altura\", \"Peso\"]\n",
    "df"
   ]
  },
  {
   "cell_type": "markdown",
   "metadata": {},
   "source": [
    "## Número de linhas e colunas do DataFrame"
   ]
  },
  {
   "cell_type": "code",
   "execution_count": 21,
   "metadata": {},
   "outputs": [
    {
     "data": {
      "text/plain": [
       "(5, 6)"
      ]
     },
     "execution_count": 21,
     "metadata": {},
     "output_type": "execute_result"
    }
   ],
   "source": [
    "df.dimensao"
   ]
  },
  {
   "cell_type": "markdown",
   "metadata": {},
   "source": [
    "## DataFrame para NumPy array"
   ]
  },
  {
   "cell_type": "code",
   "execution_count": 22,
   "metadata": {},
   "outputs": [
    {
     "data": {
      "text/plain": [
       "array([['João', 30, 'M', True, 1.75, 70.67],\n",
       "       ['Maria', 25, 'F', False, 1.65, None],\n",
       "       ['Pedro', 35, 'M', False, 1.8, 90.77],\n",
       "       ['Ana', 28, 'F', True, 1.7, 70.12],\n",
       "       ['José', 40, 'M', True, 1.68, None]], dtype=object)"
      ]
     },
     "execution_count": 22,
     "metadata": {},
     "output_type": "execute_result"
    }
   ],
   "source": [
    "df.para_numpy"
   ]
  },
  {
   "cell_type": "markdown",
   "metadata": {},
   "source": [
    "## Tipo de dados no DataFrame"
   ]
  },
  {
   "cell_type": "code",
   "execution_count": 23,
   "metadata": {},
   "outputs": [
    {
     "data": {
      "text/html": [
       "<table><thead><tr><th></th><th>Coluna    </th><th>Tipo      </th></tr></thead><tbody><tr><td><strong>0</strong></td><td>Nome</td><td>object</td></tr><tr><td><strong>1</strong></td><td>Idade</td><td>int64</td></tr><tr><td><strong>2</strong></td><td>Sexo</td><td>object</td></tr><tr><td><strong>3</strong></td><td>Estuda</td><td>bool</td></tr><tr><td><strong>4</strong></td><td>Altura</td><td>float64</td></tr><tr><td><strong>5</strong></td><td>Peso</td><td>object</td></tr></tbody></table>"
      ],
      "text/plain": [
       "<pyjaguar.core.dataframe.DataFrame at 0x7e611bf93460>"
      ]
     },
     "execution_count": 23,
     "metadata": {},
     "output_type": "execute_result"
    }
   ],
   "source": [
    "df.tipos_dados"
   ]
  },
  {
   "cell_type": "markdown",
   "metadata": {},
   "source": [
    "## Selecionando colunas"
   ]
  },
  {
   "cell_type": "code",
   "execution_count": 24,
   "metadata": {},
   "outputs": [
    {
     "data": {
      "text/html": [
       "<table><thead><tr><th></th><th>Altura    </th></tr></thead><tbody><tr><td><strong>0</strong></td><td>1.75</td></tr><tr><td><strong>1</strong></td><td>1.65</td></tr><tr><td><strong>2</strong></td><td>1.80</td></tr><tr><td><strong>3</strong></td><td>1.70</td></tr><tr><td><strong>4</strong></td><td>1.68</td></tr></tbody></table>"
      ],
      "text/plain": [
       "<pyjaguar.core.dataframe.DataFrame at 0x7e611bf939d0>"
      ]
     },
     "execution_count": 24,
     "metadata": {},
     "output_type": "execute_result"
    }
   ],
   "source": [
    "# Selecionando uma coluna\n",
    "df[\"Altura\"]"
   ]
  },
  {
   "cell_type": "code",
   "execution_count": 25,
   "metadata": {},
   "outputs": [
    {
     "data": {
      "text/html": [
       "<table><thead><tr><th></th><th>Nome      </th><th>Idade     </th><th>Peso      </th></tr></thead><tbody><tr><td><strong>0</strong></td><td>João</td><td>30</td><td>70.67</td></tr><tr><td><strong>1</strong></td><td>Maria</td><td>25</td><td>None</td></tr><tr><td><strong>2</strong></td><td>Pedro</td><td>35</td><td>90.77</td></tr><tr><td><strong>3</strong></td><td>Ana</td><td>28</td><td>70.12</td></tr><tr><td><strong>4</strong></td><td>José</td><td>40</td><td>None</td></tr></tbody></table>"
      ],
      "text/plain": [
       "<pyjaguar.core.dataframe.DataFrame at 0x7e611bf932b0>"
      ]
     },
     "execution_count": 25,
     "metadata": {},
     "output_type": "execute_result"
    }
   ],
   "source": [
    "# Selecionando múltiplas colunsa\n",
    "df[[\"Nome\", \"Idade\", \"Peso\"]]"
   ]
  },
  {
   "cell_type": "code",
   "execution_count": 12,
   "metadata": {},
   "outputs": [
    {
     "data": {
      "text/html": [
       "<table><thead><tr><th></th><th>Nome      </th><th>Idade     </th><th>Sexo      </th><th>Estuda    </th><th>Altura    </th><th>Peso      </th></tr></thead><tbody><tr><td><strong>0</strong></td><td>João</td><td>30</td><td>M</td><td>True</td><td>1.75</td><td>70.67</td></tr><tr><td><strong>1</strong></td><td>Ana</td><td>28</td><td>F</td><td>True</td><td>1.70</td><td>70.12</td></tr><tr><td><strong>2</strong></td><td>José</td><td>40</td><td>M</td><td>True</td><td>1.68</td><td>None</td></tr></tbody></table>"
      ],
      "text/plain": [
       "<pyjaguar.core.dataframe.DataFrame at 0x7e613406ada0>"
      ]
     },
     "execution_count": 12,
     "metadata": {},
     "output_type": "execute_result"
    }
   ],
   "source": [
    "# Filtra linhas com base em um DataFrame booleano\n",
    "df[df[\"Estuda\"]]"
   ]
  },
  {
   "cell_type": "code",
   "execution_count": 16,
   "metadata": {},
   "outputs": [
    {
     "data": {
      "text/html": [
       "<table><thead><tr><th></th><th>A         </th><th>B         </th><th>C         </th></tr></thead><tbody><tr><td><strong>0</strong></td><td>1</td><td>a</td><td>True</td></tr><tr><td><strong>1</strong></td><td>3</td><td>c</td><td>True</td></tr></tbody></table>"
      ],
      "text/plain": [
       "<pyjaguar.core.dataframe.DataFrame at 0x7e611bf952d0>"
      ]
     },
     "execution_count": 16,
     "metadata": {},
     "output_type": "execute_result"
    }
   ],
   "source": [
    "dados = {\"A\": np.array([1, 2, 3, 4]), \"B\": np.array([\"a\", \"b\", \"c\", \"d\"]), \n",
    "         \"C\": np.array([True, False, True, False])}\n",
    "df = pj.DataFrame(dados)\n",
    "df[df[\"C\"]]"
   ]
  }
 ],
 "metadata": {
  "kernelspec": {
   "display_name": "pyjaguar",
   "language": "python",
   "name": "python3"
  },
  "language_info": {
   "codemirror_mode": {
    "name": "ipython",
    "version": 3
   },
   "file_extension": ".py",
   "mimetype": "text/x-python",
   "name": "python",
   "nbconvert_exporter": "python",
   "pygments_lexer": "ipython3",
   "version": "3.10.14"
  }
 },
 "nbformat": 4,
 "nbformat_minor": 2
}
