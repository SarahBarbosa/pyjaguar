{
 "cells": [
  {
   "cell_type": "markdown",
   "metadata": {},
   "source": [
    "## Importação das bibliotecas"
   ]
  },
  {
   "cell_type": "code",
   "execution_count": 1,
   "metadata": {},
   "outputs": [],
   "source": [
    "import pyjaguar as pj\n",
    "import numpy as np"
   ]
  },
  {
   "cell_type": "markdown",
   "metadata": {},
   "source": [
    "## DataFrame a partir de um dicionário"
   ]
  },
  {
   "cell_type": "code",
   "execution_count": 2,
   "metadata": {},
   "outputs": [
    {
     "data": {
      "text/html": [
       "<table><thead><tr><th></th><th>nome      </th><th>idade     </th><th>genero    </th><th>estuda    </th><th>altura    </th><th>peso      </th></tr></thead><tbody><tr><td><strong>0</strong></td><td>João</td><td>30</td><td>M</td><td>True</td><td>1.75</td><td>70.67</td></tr><tr><td><strong>1</strong></td><td>Maria</td><td>25</td><td>F</td><td>False</td><td>1.65</td><td>None</td></tr><tr><td><strong>2</strong></td><td>Pedro</td><td>35</td><td>M</td><td>False</td><td>1.80</td><td>90.77</td></tr><tr><td><strong>3</strong></td><td>Ana</td><td>28</td><td>F</td><td>True</td><td>1.70</td><td>70.12</td></tr><tr><td><strong>4</strong></td><td>José</td><td>40</td><td>M</td><td>True</td><td>1.68</td><td>None</td></tr></tbody></table>"
      ],
      "text/plain": [
       "<pyjaguar.core.dataframe.DataFrame at 0x7d2870153a60>"
      ]
     },
     "execution_count": 2,
     "metadata": {},
     "output_type": "execute_result"
    }
   ],
   "source": [
    "nome = np.array(['João', 'Maria', 'Pedro', 'Ana', 'José'])\n",
    "idade = np.array([30, 25, 35, 28, 40])\n",
    "genero = np.array(['M', 'F', 'M', 'F', 'M'])\n",
    "estuda = np.array([True, False, False, True, True])\n",
    "altura = np.array([1.75, 1.65, 1.80, 1.70, 1.68])\n",
    "peso = np.array([70.67, None, 90.77, 70.12, None])\n",
    "\n",
    "dados = {'nome': nome, 'idade': idade, 'genero': genero, \n",
    "         'estuda': estuda, 'altura': altura, 'peso': peso}\n",
    "\n",
    "df = pj.DataFrame(dados)\n",
    "df"
   ]
  },
  {
   "cell_type": "markdown",
   "metadata": {},
   "source": [
    "## Acessar os nomes das colunas"
   ]
  },
  {
   "cell_type": "code",
   "execution_count": 3,
   "metadata": {},
   "outputs": [
    {
     "data": {
      "text/plain": [
       "['nome', 'idade', 'genero', 'estuda', 'altura', 'peso']"
      ]
     },
     "execution_count": 3,
     "metadata": {},
     "output_type": "execute_result"
    }
   ],
   "source": [
    "df.colunas"
   ]
  },
  {
   "cell_type": "markdown",
   "metadata": {},
   "source": [
    "## Modificando os nomes das colunas"
   ]
  },
  {
   "cell_type": "code",
   "execution_count": 4,
   "metadata": {},
   "outputs": [
    {
     "data": {
      "text/html": [
       "<table><thead><tr><th></th><th>Nome      </th><th>Idade     </th><th>Sexo      </th><th>Estuda    </th><th>Altura    </th><th>Peso      </th></tr></thead><tbody><tr><td><strong>0</strong></td><td>João</td><td>30</td><td>M</td><td>True</td><td>1.75</td><td>70.67</td></tr><tr><td><strong>1</strong></td><td>Maria</td><td>25</td><td>F</td><td>False</td><td>1.65</td><td>None</td></tr><tr><td><strong>2</strong></td><td>Pedro</td><td>35</td><td>M</td><td>False</td><td>1.80</td><td>90.77</td></tr><tr><td><strong>3</strong></td><td>Ana</td><td>28</td><td>F</td><td>True</td><td>1.70</td><td>70.12</td></tr><tr><td><strong>4</strong></td><td>José</td><td>40</td><td>M</td><td>True</td><td>1.68</td><td>None</td></tr></tbody></table>"
      ],
      "text/plain": [
       "<pyjaguar.core.dataframe.DataFrame at 0x7d2870153a60>"
      ]
     },
     "execution_count": 4,
     "metadata": {},
     "output_type": "execute_result"
    }
   ],
   "source": [
    "df.colunas = [\"Nome\", \"Idade\", \"Sexo\", \"Estuda\", \"Altura\", \"Peso\"]\n",
    "df"
   ]
  },
  {
   "cell_type": "markdown",
   "metadata": {},
   "source": [
    "## Número de linhas e colunas do DataFrame"
   ]
  },
  {
   "cell_type": "code",
   "execution_count": 5,
   "metadata": {},
   "outputs": [
    {
     "data": {
      "text/plain": [
       "(5, 6)"
      ]
     },
     "execution_count": 5,
     "metadata": {},
     "output_type": "execute_result"
    }
   ],
   "source": [
    "df.dimensao"
   ]
  },
  {
   "cell_type": "markdown",
   "metadata": {},
   "source": [
    "## DataFrame para NumPy array"
   ]
  },
  {
   "cell_type": "code",
   "execution_count": 6,
   "metadata": {},
   "outputs": [
    {
     "data": {
      "text/plain": [
       "array([['João', 30, 'M', True, 1.75, 70.67],\n",
       "       ['Maria', 25, 'F', False, 1.65, None],\n",
       "       ['Pedro', 35, 'M', False, 1.8, 90.77],\n",
       "       ['Ana', 28, 'F', True, 1.7, 70.12],\n",
       "       ['José', 40, 'M', True, 1.68, None]], dtype=object)"
      ]
     },
     "execution_count": 6,
     "metadata": {},
     "output_type": "execute_result"
    }
   ],
   "source": [
    "df.para_numpy"
   ]
  }
 ],
 "metadata": {
  "kernelspec": {
   "display_name": "pyjaguar",
   "language": "python",
   "name": "python3"
  },
  "language_info": {
   "codemirror_mode": {
    "name": "ipython",
    "version": 3
   },
   "file_extension": ".py",
   "mimetype": "text/x-python",
   "name": "python",
   "nbconvert_exporter": "python",
   "pygments_lexer": "ipython3",
   "version": "3.10.14"
  }
 },
 "nbformat": 4,
 "nbformat_minor": 2
}
